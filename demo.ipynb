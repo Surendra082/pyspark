{
 "cells": [
  {
   "cell_type": "code",
   "execution_count": 1,
   "metadata": {},
   "outputs": [],
   "source": [
    "import os\n",
    "from pyspark.sql import SparkSession\n",
    "from pyspark.sql.functions import col, count, avg, countDistinct, to_date\n",
    "from pyspark.sql.functions import lit\n",
    "from pyspark.sql.functions import  from_json, from_unixtime, date_format"
   ]
  },
  {
   "cell_type": "markdown",
   "metadata": {},
   "source": [
    "# Initialize Spark session"
   ]
  },
  {
   "cell_type": "code",
   "execution_count": 2,
   "metadata": {},
   "outputs": [],
   "source": [
    "spark = SparkSession.builder \\\n",
    "    .appName(\"User Click Data ETL\") \\\n",
    "    .getOrCreate()\n"
   ]
  },
  {
   "cell_type": "markdown",
   "metadata": {},
   "source": [
    "# creating file path"
   ]
  },
  {
   "cell_type": "code",
   "execution_count": 5,
   "metadata": {},
   "outputs": [],
   "source": [
    "file_path=r\"C:\\Users\\prana\\OneDrive\\Desktop\\Azure DE\\pyspark\\user_click_data.json\""
   ]
  },
  {
   "cell_type": "markdown",
   "metadata": {},
   "source": [
    "# reading the file path if exists are not"
   ]
  },
  {
   "cell_type": "code",
   "execution_count": 6,
   "metadata": {},
   "outputs": [
    {
     "name": "stdout",
     "output_type": "stream",
     "text": [
      "File exists\n",
      "+--------------+------------+--------------+-------+------+---------------+-------------------+--------------------+-------+\n",
      "|       browser|        city|click_event_id|country|device|     ip_address|          timestamp|                 url|user_id|\n",
      "+--------------+------------+--------------+-------+------+---------------+-------------------+--------------------+-------+\n",
      "|Firefox Mobile|      Jaipur|           843|  India|Mobile| 240.246.150.88|2023-05-20 08:45:39|www.globalmart.co...| 525707|\n",
      "|Firefox Mobile|      Jaipur|           844|  India|Mobile| 240.246.150.88|2023-05-20 08:49:34|www.globalmart.co...| 525707|\n",
      "|        Safari|Philadelphia|           905|    USA|Mobile| 46.147.149.245|2023-05-20 08:51:44|www.globalmart.co...| 525679|\n",
      "|        Safari|Philadelphia|           906|    USA|Mobile| 46.147.149.245|2023-05-20 08:56:27|www.globalmart.co...| 525679|\n",
      "|        Safari|    Zaragoza|             2|  Spain|Mobile|  59.243.217.35|2023-05-20 08:33:31|www.globalmart.co...| 525616|\n",
      "|        Safari|    Zaragoza|             3|  Spain|Mobile|  59.243.217.35|2023-05-20 08:35:48|www.globalmart.co...| 525616|\n",
      "|        Safari|     Chicago|           764|    USA|Laptop| 81.203.192.167|2023-05-20 08:57:50|www.globalmart.co...| 525666|\n",
      "|        Safari|     Chicago|           765|    USA|Laptop| 81.203.192.167|2023-05-20 09:02:15|www.globalmart.co...| 525666|\n",
      "|Firefox Mobile|  Birmingham|           617|England|Mobile| 50.250.148.197|2023-05-20 08:37:52|www.globalmart.co...| 525709|\n",
      "|Firefox Mobile|  Birmingham|           618|England|Mobile| 50.250.148.197|2023-05-20 08:41:07|www.globalmart.co...| 525709|\n",
      "|Firefox Mobile|  Birmingham|           619|England|Mobile| 50.250.148.197|2023-05-20 08:46:48|www.globalmart.co...| 525709|\n",
      "|Firefox Mobile|  Birmingham|           620|England|Mobile| 50.250.148.197|2023-05-20 08:52:14|www.globalmart.co...| 525709|\n",
      "|Firefox Mobile|  Birmingham|           621|England|Mobile| 50.250.148.197|2023-05-20 08:55:34|www.globalmart.co...| 525709|\n",
      "|Firefox Mobile|   Liverpool|           198|England|Mobile| 235.220.151.90|2023-05-20 08:27:51|www.globalmart.co...| 525623|\n",
      "|Firefox Mobile|   Liverpool|           199|England|Mobile| 235.220.151.90|2023-05-20 08:30:12|www.globalmart.co...| 525623|\n",
      "|Firefox Mobile|   Liverpool|           201|England|Mobile| 235.220.151.90|2023-05-20 08:40:57|www.globalmart.co...| 525623|\n",
      "|Firefox Mobile|   Liverpool|           203|England|Mobile| 235.220.151.90|2023-05-20 08:50:46|www.globalmart.co...| 525623|\n",
      "| Chrome Mobile|   Newcastle|           564|England|Mobile|150.201.181.200|2023-05-20 08:36:22|www.globalmart.co...| 525595|\n",
      "| Chrome Mobile|   Newcastle|           565|England|Mobile|150.201.181.200|2023-05-20 08:43:21|www.globalmart.co...| 525595|\n",
      "| Chrome Mobile|   Newcastle|           566|England|Mobile|150.201.181.200|2023-05-20 08:45:23|www.globalmart.co...| 525595|\n",
      "+--------------+------------+--------------+-------+------+---------------+-------------------+--------------------+-------+\n",
      "only showing top 20 rows\n",
      "\n"
     ]
    }
   ],
   "source": [
    "if os.path.exists(file_path):\n",
    "    print(\"File exists\")\n",
    "    user_df = spark.read.json(file_path)\n",
    "    user_df.show()\n",
    "else:\n",
    "    print(\"File does not exist at the specified path\")"
   ]
  },
  {
   "cell_type": "markdown",
   "metadata": {},
   "source": [
    "# Read the JSON data"
   ]
  },
  {
   "cell_type": "code",
   "execution_count": 8,
   "metadata": {},
   "outputs": [],
   "source": [
    "user_df = spark.read \\\n",
    "    .json(file_path)"
   ]
  },
  {
   "cell_type": "markdown",
   "metadata": {},
   "source": [
    "# Correct data types"
   ]
  },
  {
   "cell_type": "code",
   "execution_count": 9,
   "metadata": {},
   "outputs": [],
   "source": [
    "user1_df = user_df.withColumn(\"timestamp\", col(\"timestamp\").cast(\"timestamp\"))\n",
    "user_final_df = user1_df.withColumn(\"event_date\", date_format(col(\"timestamp\"), \"MM-dd-yyyy\"))"
   ]
  },
  {
   "cell_type": "markdown",
   "metadata": {},
   "source": [
    "# represents a random time spent in minutes"
   ]
  },
  {
   "cell_type": "code",
   "execution_count": 11,
   "metadata": {},
   "outputs": [],
   "source": [
    "result_df = user_final_df.withColumn(\"time_spent\", col(\"timestamp\").cast(\"long\") % 60)  "
   ]
  },
  {
   "cell_type": "markdown",
   "metadata": {},
   "source": [
    "# Group by URL, country, and date and aggregate"
   ]
  },
  {
   "cell_type": "code",
   "execution_count": 12,
   "metadata": {},
   "outputs": [],
   "source": [
    "agg_df = result_df.groupBy(\"url\", \"country\", \"event_date\").agg(\n",
    "    avg(\"time_spent\").alias(\"average_minutes_spent\"),\n",
    "    countDistinct(\"user_id\").alias(\"unique_users_count\"),\n",
    "    count(\"click_event_id\").alias(\"click_count\")\n",
    ")\n"
   ]
  },
  {
   "cell_type": "markdown",
   "metadata": {},
   "source": [
    "# Show the result"
   ]
  },
  {
   "cell_type": "code",
   "execution_count": 13,
   "metadata": {},
   "outputs": [
    {
     "name": "stdout",
     "output_type": "stream",
     "text": [
      "+--------------------+-------+----------+---------------------+------------------+-----------+\n",
      "|                 url|country|event_date|average_minutes_spent|unique_users_count|click_count|\n",
      "+--------------------+-------+----------+---------------------+------------------+-----------+\n",
      "|www.globalmart.co...|  India|05-20-2023|                 49.0|                 2|          2|\n",
      "|www.globalmart.co...|England|05-20-2023|                 34.5|                 4|          4|\n",
      "|www.globalmart.co...|    USA|05-20-2023|                 28.5|                 1|          2|\n",
      "|www.globalmart.co...|  India|05-20-2023|                 36.6|                 4|          5|\n",
      "|www.globalmart.co...|England|05-20-2023|                 40.5|                 2|          2|\n",
      "|www.globalmart.co...|  Spain|05-20-2023|                 41.0|                 1|          1|\n",
      "|www.globalmart.co...|England|05-20-2023|                 30.0|                 1|          1|\n",
      "|www.globalmart.co...|    USA|05-20-2023|                 16.0|                 3|          3|\n",
      "|www.globalmart.co...|England|05-20-2023|                 22.5|                 6|          6|\n",
      "|www.globalmart.co...|  Spain|05-20-2023|                 30.0|                 1|          1|\n",
      "|www.globalmart.co...|    USA|05-20-2023|   32.666666666666664|                 3|          3|\n",
      "|www.globalmart.co...|  Spain|05-20-2023|                 21.0|                 7|          7|\n",
      "|www.globalmart.co...|England|05-20-2023|                 40.0|                 3|          3|\n",
      "|www.globalmart.co...|    USA|05-20-2023|   44.333333333333336|                 3|          3|\n",
      "|www.globalmart.co...|  Spain|05-20-2023|   24.666666666666668|                 3|          3|\n",
      "|www.globalmart.co...|England|05-20-2023|   32.666666666666664|                 3|          3|\n",
      "|www.globalmart.co...|  Spain|05-20-2023|   33.333333333333336|                 3|          3|\n",
      "|www.globalmart.co...|England|05-20-2023|                 23.8|                 5|          5|\n",
      "|www.globalmart.co...|    USA|05-20-2023|                 30.8|                 4|          5|\n",
      "|www.globalmart.co...|  Italy|05-20-2023|                 37.0|                 2|          2|\n",
      "+--------------------+-------+----------+---------------------+------------------+-----------+\n",
      "only showing top 20 rows\n",
      "\n"
     ]
    }
   ],
   "source": [
    "agg_df.show()"
   ]
  }
 ],
 "metadata": {
  "kernelspec": {
   "display_name": "Python 3",
   "language": "python",
   "name": "python3"
  },
  "language_info": {
   "codemirror_mode": {
    "name": "ipython",
    "version": 3
   },
   "file_extension": ".py",
   "mimetype": "text/x-python",
   "name": "python",
   "nbconvert_exporter": "python",
   "pygments_lexer": "ipython3",
   "version": "3.8.0"
  }
 },
 "nbformat": 4,
 "nbformat_minor": 2
}
